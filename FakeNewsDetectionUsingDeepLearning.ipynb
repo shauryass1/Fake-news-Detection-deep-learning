{
 "cells": [
  {
   "cell_type": "code",
   "execution_count": 2,
   "id": "6156f99f",
   "metadata": {},
   "outputs": [],
   "source": [
    "import numpy as np"
   ]
  },
  {
   "cell_type": "code",
   "execution_count": 3,
   "id": "f11d4269",
   "metadata": {},
   "outputs": [],
   "source": [
    "import pandas as pd"
   ]
  },
  {
   "cell_type": "code",
   "execution_count": 4,
   "id": "7bb8e5a7",
   "metadata": {},
   "outputs": [],
   "source": [
    "import matplotlib.pyplot as plt"
   ]
  },
  {
   "cell_type": "code",
   "execution_count": 5,
   "id": "2155fb76",
   "metadata": {},
   "outputs": [],
   "source": [
    "import seaborn as sns"
   ]
  },
  {
   "cell_type": "code",
   "execution_count": 6,
   "id": "6703b1ce",
   "metadata": {},
   "outputs": [],
   "source": [
    "import nltk"
   ]
  },
  {
   "cell_type": "code",
   "execution_count": 7,
   "id": "eaf6aaba",
   "metadata": {},
   "outputs": [],
   "source": [
    "import re"
   ]
  },
  {
   "cell_type": "code",
   "execution_count": 8,
   "id": "1690e864",
   "metadata": {},
   "outputs": [],
   "source": [
    "from tensorflow.keras.preprocessing.text import Tokenizer"
   ]
  },
  {
   "cell_type": "code",
   "execution_count": 9,
   "id": "a0901a02",
   "metadata": {},
   "outputs": [],
   "source": [
    "from tensorflow.keras.preprocessing.sequence import pad_sequences"
   ]
  },
  {
   "cell_type": "code",
   "execution_count": 10,
   "id": "5b30c2b8",
   "metadata": {},
   "outputs": [],
   "source": [
    "from tensorflow.keras.models import Sequential"
   ]
  },
  {
   "cell_type": "code",
   "execution_count": 11,
   "id": "990d1938",
   "metadata": {},
   "outputs": [],
   "source": [
    "from tensorflow.keras.layers import Dense, Embedding, LSTM"
   ]
  },
  {
   "cell_type": "code",
   "execution_count": 12,
   "id": "f40279c5",
   "metadata": {},
   "outputs": [],
   "source": [
    "from sklearn.model_selection import train_test_split"
   ]
  },
  {
   "cell_type": "code",
   "execution_count": 13,
   "id": "ca249b06",
   "metadata": {},
   "outputs": [],
   "source": [
    "from sklearn.metrics import classification_report, accuracy_score"
   ]
  },
  {
   "cell_type": "code",
   "execution_count": 14,
   "id": "13f72001",
   "metadata": {},
   "outputs": [],
   "source": [
    "fake = pd.read_csv(r\"C:\\Users\\22rit\\OneDrive\\Documents\\Datasets\\Fake.csv\")"
   ]
  },
  {
   "cell_type": "code",
   "execution_count": 15,
   "id": "bd0d7648",
   "metadata": {},
   "outputs": [
    {
     "data": {
      "text/html": [
       "<div>\n",
       "<style scoped>\n",
       "    .dataframe tbody tr th:only-of-type {\n",
       "        vertical-align: middle;\n",
       "    }\n",
       "\n",
       "    .dataframe tbody tr th {\n",
       "        vertical-align: top;\n",
       "    }\n",
       "\n",
       "    .dataframe thead th {\n",
       "        text-align: right;\n",
       "    }\n",
       "</style>\n",
       "<table border=\"1\" class=\"dataframe\">\n",
       "  <thead>\n",
       "    <tr style=\"text-align: right;\">\n",
       "      <th></th>\n",
       "      <th>title</th>\n",
       "      <th>text</th>\n",
       "      <th>subject</th>\n",
       "      <th>date</th>\n",
       "    </tr>\n",
       "  </thead>\n",
       "  <tbody>\n",
       "    <tr>\n",
       "      <th>0</th>\n",
       "      <td>Donald Trump Sends Out Embarrassing New Year’...</td>\n",
       "      <td>Donald Trump just couldn t wish all Americans ...</td>\n",
       "      <td>News</td>\n",
       "      <td>December 31, 2017</td>\n",
       "    </tr>\n",
       "    <tr>\n",
       "      <th>1</th>\n",
       "      <td>Drunk Bragging Trump Staffer Started Russian ...</td>\n",
       "      <td>House Intelligence Committee Chairman Devin Nu...</td>\n",
       "      <td>News</td>\n",
       "      <td>December 31, 2017</td>\n",
       "    </tr>\n",
       "    <tr>\n",
       "      <th>2</th>\n",
       "      <td>Sheriff David Clarke Becomes An Internet Joke...</td>\n",
       "      <td>On Friday, it was revealed that former Milwauk...</td>\n",
       "      <td>News</td>\n",
       "      <td>December 30, 2017</td>\n",
       "    </tr>\n",
       "    <tr>\n",
       "      <th>3</th>\n",
       "      <td>Trump Is So Obsessed He Even Has Obama’s Name...</td>\n",
       "      <td>On Christmas day, Donald Trump announced that ...</td>\n",
       "      <td>News</td>\n",
       "      <td>December 29, 2017</td>\n",
       "    </tr>\n",
       "    <tr>\n",
       "      <th>4</th>\n",
       "      <td>Pope Francis Just Called Out Donald Trump Dur...</td>\n",
       "      <td>Pope Francis used his annual Christmas Day mes...</td>\n",
       "      <td>News</td>\n",
       "      <td>December 25, 2017</td>\n",
       "    </tr>\n",
       "  </tbody>\n",
       "</table>\n",
       "</div>"
      ],
      "text/plain": [
       "                                               title  \\\n",
       "0   Donald Trump Sends Out Embarrassing New Year’...   \n",
       "1   Drunk Bragging Trump Staffer Started Russian ...   \n",
       "2   Sheriff David Clarke Becomes An Internet Joke...   \n",
       "3   Trump Is So Obsessed He Even Has Obama’s Name...   \n",
       "4   Pope Francis Just Called Out Donald Trump Dur...   \n",
       "\n",
       "                                                text subject  \\\n",
       "0  Donald Trump just couldn t wish all Americans ...    News   \n",
       "1  House Intelligence Committee Chairman Devin Nu...    News   \n",
       "2  On Friday, it was revealed that former Milwauk...    News   \n",
       "3  On Christmas day, Donald Trump announced that ...    News   \n",
       "4  Pope Francis used his annual Christmas Day mes...    News   \n",
       "\n",
       "                date  \n",
       "0  December 31, 2017  \n",
       "1  December 31, 2017  \n",
       "2  December 30, 2017  \n",
       "3  December 29, 2017  \n",
       "4  December 25, 2017  "
      ]
     },
     "execution_count": 15,
     "metadata": {},
     "output_type": "execute_result"
    }
   ],
   "source": [
    "fake.head()"
   ]
  },
  {
   "cell_type": "code",
   "execution_count": 16,
   "id": "1dc240ca",
   "metadata": {},
   "outputs": [
    {
     "data": {
      "text/plain": [
       "Index(['title', 'text', 'subject', 'date'], dtype='object')"
      ]
     },
     "execution_count": 16,
     "metadata": {},
     "output_type": "execute_result"
    }
   ],
   "source": [
    "fake.columns"
   ]
  },
  {
   "cell_type": "code",
   "execution_count": 17,
   "id": "abe2cb23",
   "metadata": {},
   "outputs": [
    {
     "data": {
      "text/plain": [
       "News               9050\n",
       "politics           6841\n",
       "left-news          4459\n",
       "Government News    1570\n",
       "US_News             783\n",
       "Middle-east         778\n",
       "Name: subject, dtype: int64"
      ]
     },
     "execution_count": 17,
     "metadata": {},
     "output_type": "execute_result"
    }
   ],
   "source": [
    "fake['subject'].value_counts()"
   ]
  },
  {
   "cell_type": "code",
   "execution_count": 18,
   "id": "2269234d",
   "metadata": {},
   "outputs": [
    {
     "data": {
      "text/plain": [
       "<AxesSubplot:xlabel='subject', ylabel='count'>"
      ]
     },
     "execution_count": 18,
     "metadata": {},
     "output_type": "execute_result"
    },
    {
     "data": {
      "image/png": "[encoded data removed]",
      "text/plain": [
       "<Figure size 720x432 with 1 Axes>"
      ]
     },
     "metadata": {
      "needs_background": "light"
     },
     "output_type": "display_data"
    }
   ],
   "source": [
    "plt.figure(figsize=(10,6))\n",
    "sns.countplot(x = 'subject',data = fake)"
   ]
  },
  {
   "cell_type": "code",
   "execution_count": 19,
   "id": "8f8c5014",
   "metadata": {},
   "outputs": [],
   "source": [
    "real = pd.read_csv(r\"C:\\Users\\22rit\\OneDrive\\Documents\\Datasets\\True.csv\")"
   ]
  },
  {
   "cell_type": "code",
   "execution_count": 20,
   "id": "8ead2b55",
   "metadata": {},
   "outputs": [
    {
     "data": {
      "text/html": [
       "<div>\n",
       "<style scoped>\n",
       "    .dataframe tbody tr th:only-of-type {\n",
       "        vertical-align: middle;\n",
       "    }\n",
       "\n",
       "    .dataframe tbody tr th {\n",
       "        vertical-align: top;\n",
       "    }\n",
       "\n",
       "    .dataframe thead th {\n",
       "        text-align: right;\n",
       "    }\n",
       "</style>\n",
       "<table border=\"1\" class=\"dataframe\">\n",
       "  <thead>\n",
       "    <tr style=\"text-align: right;\">\n",
       "      <th></th>\n",
       "      <th>title</th>\n",
       "      <th>text</th>\n",
       "      <th>subject</th>\n",
       "      <th>date</th>\n",
       "    </tr>\n",
       "  </thead>\n",
       "  <tbody>\n",
       "    <tr>\n",
       "      <th>0</th>\n",
       "      <td>As U.S. budget fight looms, Republicans flip t...</td>\n",
       "      <td>WASHINGTON (Reuters) - The head of a conservat...</td>\n",
       "      <td>politicsNews</td>\n",
       "      <td>December 31, 2017</td>\n",
       "    </tr>\n",
       "    <tr>\n",
       "      <th>1</th>\n",
       "      <td>U.S. military to accept transgender recruits o...</td>\n",
       "      <td>WASHINGTON (Reuters) - Transgender people will...</td>\n",
       "      <td>politicsNews</td>\n",
       "      <td>December 29, 2017</td>\n",
       "    </tr>\n",
       "    <tr>\n",
       "      <th>2</th>\n",
       "      <td>Senior U.S. Republican senator: 'Let Mr. Muell...</td>\n",
       "      <td>WASHINGTON (Reuters) - The special counsel inv...</td>\n",
       "      <td>politicsNews</td>\n",
       "      <td>December 31, 2017</td>\n",
       "    </tr>\n",
       "    <tr>\n",
       "      <th>3</th>\n",
       "      <td>FBI Russia probe helped by Australian diplomat...</td>\n",
       "      <td>WASHINGTON (Reuters) - Trump campaign adviser ...</td>\n",
       "      <td>politicsNews</td>\n",
       "      <td>December 30, 2017</td>\n",
       "    </tr>\n",
       "    <tr>\n",
       "      <th>4</th>\n",
       "      <td>Trump wants Postal Service to charge 'much mor...</td>\n",
       "      <td>SEATTLE/WASHINGTON (Reuters) - President Donal...</td>\n",
       "      <td>politicsNews</td>\n",
       "      <td>December 29, 2017</td>\n",
       "    </tr>\n",
       "  </tbody>\n",
       "</table>\n",
       "</div>"
      ],
      "text/plain": [
       "                                               title  \\\n",
       "0  As U.S. budget fight looms, Republicans flip t...   \n",
       "1  U.S. military to accept transgender recruits o...   \n",
       "2  Senior U.S. Republican senator: 'Let Mr. Muell...   \n",
       "3  FBI Russia probe helped by Australian diplomat...   \n",
       "4  Trump wants Postal Service to charge 'much mor...   \n",
       "\n",
       "                                                text       subject  \\\n",
       "0  WASHINGTON (Reuters) - The head of a conservat...  politicsNews   \n",
       "1  WASHINGTON (Reuters) - Transgender people will...  politicsNews   \n",
       "2  WASHINGTON (Reuters) - The special counsel inv...  politicsNews   \n",
       "3  WASHINGTON (Reuters) - Trump campaign adviser ...  politicsNews   \n",
       "4  SEATTLE/WASHINGTON (Reuters) - President Donal...  politicsNews   \n",
       "\n",
       "                 date  \n",
       "0  December 31, 2017   \n",
       "1  December 29, 2017   \n",
       "2  December 31, 2017   \n",
       "3  December 30, 2017   \n",
       "4  December 29, 2017   "
      ]
     },
     "execution_count": 20,
     "metadata": {},
     "output_type": "execute_result"
    }
   ],
   "source": [
    "real.head()"
   ]
  },
  {
   "cell_type": "code",
   "execution_count": 21,
   "id": "a438483c",
   "metadata": {},
   "outputs": [
    {
     "data": {
      "text/html": [
       "<div>\n",
       "<style scoped>\n",
       "    .dataframe tbody tr th:only-of-type {\n",
       "        vertical-align: middle;\n",
       "    }\n",
       "\n",
       "    .dataframe tbody tr th {\n",
       "        vertical-align: top;\n",
       "    }\n",
       "\n",
       "    .dataframe thead th {\n",
       "        text-align: right;\n",
       "    }\n",
       "</style>\n",
       "<table border=\"1\" class=\"dataframe\">\n",
       "  <thead>\n",
       "    <tr style=\"text-align: right;\">\n",
       "      <th></th>\n",
       "      <th>title</th>\n",
       "      <th>text</th>\n",
       "      <th>subject</th>\n",
       "      <th>date</th>\n",
       "    </tr>\n",
       "  </thead>\n",
       "  <tbody>\n",
       "    <tr>\n",
       "      <th>14805</th>\n",
       "      <td>Venezuela opposition says talks with governmen...</td>\n",
       "      <td>CARACAS (Reuters) - Venezuela s opposition sai...</td>\n",
       "      <td>worldnews</td>\n",
       "      <td>November 14, 2017</td>\n",
       "    </tr>\n",
       "    <tr>\n",
       "      <th>2971</th>\n",
       "      <td>House panel wants to know how climate change i...</td>\n",
       "      <td>WASHINGTON (Reuters) - U.S. lawmakers on the H...</td>\n",
       "      <td>politicsNews</td>\n",
       "      <td>June 29, 2017</td>\n",
       "    </tr>\n",
       "    <tr>\n",
       "      <th>21042</th>\n",
       "      <td>Teachers in Peru return to class as strike win...</td>\n",
       "      <td>LIMA (Reuters) - Teachers in Peru started retu...</td>\n",
       "      <td>worldnews</td>\n",
       "      <td>September 4, 2017</td>\n",
       "    </tr>\n",
       "    <tr>\n",
       "      <th>17463</th>\n",
       "      <td>Iranians fear economic hardship, but united ag...</td>\n",
       "      <td>ANKARA (Reuters) - U.S. President Donald Trump...</td>\n",
       "      <td>worldnews</td>\n",
       "      <td>October 14, 2017</td>\n",
       "    </tr>\n",
       "    <tr>\n",
       "      <th>5806</th>\n",
       "      <td>Trump's Supreme Court nominee questions power ...</td>\n",
       "      <td>NEW YORK (Reuters) - Supreme Court nominee Jud...</td>\n",
       "      <td>politicsNews</td>\n",
       "      <td>February 1, 2017</td>\n",
       "    </tr>\n",
       "  </tbody>\n",
       "</table>\n",
       "</div>"
      ],
      "text/plain": [
       "                                                   title  \\\n",
       "14805  Venezuela opposition says talks with governmen...   \n",
       "2971   House panel wants to know how climate change i...   \n",
       "21042  Teachers in Peru return to class as strike win...   \n",
       "17463  Iranians fear economic hardship, but united ag...   \n",
       "5806   Trump's Supreme Court nominee questions power ...   \n",
       "\n",
       "                                                    text       subject  \\\n",
       "14805  CARACAS (Reuters) - Venezuela s opposition sai...     worldnews   \n",
       "2971   WASHINGTON (Reuters) - U.S. lawmakers on the H...  politicsNews   \n",
       "21042  LIMA (Reuters) - Teachers in Peru started retu...     worldnews   \n",
       "17463  ANKARA (Reuters) - U.S. President Donald Trump...     worldnews   \n",
       "5806   NEW YORK (Reuters) - Supreme Court nominee Jud...  politicsNews   \n",
       "\n",
       "                     date  \n",
       "14805  November 14, 2017   \n",
       "2971       June 29, 2017   \n",
       "21042  September 4, 2017   \n",
       "17463   October 14, 2017   \n",
       "5806    February 1, 2017   "
      ]
     },
     "execution_count": 21,
     "metadata": {},
     "output_type": "execute_result"
    }
   ],
   "source": [
    "real.sample(5)"
   ]
  },
  {
   "cell_type": "code",
   "execution_count": 22,
   "id": "46b896d2",
   "metadata": {},
   "outputs": [],
   "source": [
    "unknown_publishers = []\n",
    "for index, row in enumerate(real.text.values):\n",
    "    try :\n",
    "        record = row.split('-',maxsplit=1)\n",
    "        record[1]\n",
    "        assert(len(record[0])<120)\n",
    "    except :\n",
    "        unknown_publishers.append(index)"
   ]
  },
  {
   "cell_type": "code",
   "execution_count": 23,
   "id": "534bfa4c",
   "metadata": {},
   "outputs": [
    {
     "data": {
      "text/plain": [
       "222"
      ]
     },
     "execution_count": 23,
     "metadata": {},
     "output_type": "execute_result"
    }
   ],
   "source": [
    "len(unknown_publishers)"
   ]
  },
  {
   "cell_type": "code",
   "execution_count": 24,
   "id": "bc1c3fbc",
   "metadata": {},
   "outputs": [
    {
     "data": {
      "text/plain": [
       "7        The following statements were posted to the ve...\n",
       "8        The following statements were posted to the ve...\n",
       "12       The following statements were posted to the ve...\n",
       "13       The following statements were posted to the ve...\n",
       "14        (In Dec. 25 story, in second paragraph, corre...\n",
       "                               ...                        \n",
       "20135     (Story corrects to million from billion in pa...\n",
       "20500     (This Sept 8 story corrects headline, clarifi...\n",
       "20667     (Story refiles to add dropped word  not , in ...\n",
       "21246     (Story corrects third paragraph to show Mosul...\n",
       "21339     (Story corrects to fix spelling in paragraph ...\n",
       "Name: text, Length: 222, dtype: object"
      ]
     },
     "execution_count": 24,
     "metadata": {},
     "output_type": "execute_result"
    }
   ],
   "source": [
    "real.iloc[unknown_publishers].text"
   ]
  },
  {
   "cell_type": "code",
   "execution_count": 25,
   "id": "f2e6a51b",
   "metadata": {},
   "outputs": [
    {
     "data": {
      "text/plain": [
       "title      Graphic: Supreme Court roundup\n",
       "text                                     \n",
       "subject                      politicsNews\n",
       "date                       June 16, 2016 \n",
       "Name: 8970, dtype: object"
      ]
     },
     "execution_count": 25,
     "metadata": {},
     "output_type": "execute_result"
    }
   ],
   "source": [
    "real.iloc[8970]"
   ]
  },
  {
   "cell_type": "code",
   "execution_count": 26,
   "id": "2a66d173",
   "metadata": {},
   "outputs": [],
   "source": [
    "real = real.drop(8970, axis=0)"
   ]
  },
  {
   "cell_type": "code",
   "execution_count": 27,
   "id": "815562d1",
   "metadata": {},
   "outputs": [],
   "source": [
    "publisher = []\n",
    "tmp_text = []\n",
    "for index,row in enumerate(real.text.values):\n",
    "    if index in unknown_publishers :\n",
    "        tmp_text.append(row)\n",
    "        publisher.append('Unknown')\n",
    "    else:\n",
    "        record = row.split('-',maxsplit=1)\n",
    "        publisher.append(record[0].strip())\n",
    "        tmp_text.append(record[1].strip())"
   ]
  },
  {
   "cell_type": "code",
   "execution_count": 28,
   "id": "2502d680",
   "metadata": {},
   "outputs": [],
   "source": [
    "real['publisher'] = publisher\n",
    "real['text'] = tmp_text"
   ]
  },
  {
   "cell_type": "code",
   "execution_count": 29,
   "id": "cbf297fa",
   "metadata": {},
   "outputs": [
    {
     "data": {
      "text/html": [
       "<div>\n",
       "<style scoped>\n",
       "    .dataframe tbody tr th:only-of-type {\n",
       "        vertical-align: middle;\n",
       "    }\n",
       "\n",
       "    .dataframe tbody tr th {\n",
       "        vertical-align: top;\n",
       "    }\n",
       "\n",
       "    .dataframe thead th {\n",
       "        text-align: right;\n",
       "    }\n",
       "</style>\n",
       "<table border=\"1\" class=\"dataframe\">\n",
       "  <thead>\n",
       "    <tr style=\"text-align: right;\">\n",
       "      <th></th>\n",
       "      <th>title</th>\n",
       "      <th>text</th>\n",
       "      <th>subject</th>\n",
       "      <th>date</th>\n",
       "      <th>publisher</th>\n",
       "    </tr>\n",
       "  </thead>\n",
       "  <tbody>\n",
       "    <tr>\n",
       "      <th>0</th>\n",
       "      <td>As U.S. budget fight looms, Republicans flip t...</td>\n",
       "      <td>The head of a conservative Republican faction ...</td>\n",
       "      <td>politicsNews</td>\n",
       "      <td>December 31, 2017</td>\n",
       "      <td>WASHINGTON (Reuters)</td>\n",
       "    </tr>\n",
       "    <tr>\n",
       "      <th>1</th>\n",
       "      <td>U.S. military to accept transgender recruits o...</td>\n",
       "      <td>Transgender people will be allowed for the fir...</td>\n",
       "      <td>politicsNews</td>\n",
       "      <td>December 29, 2017</td>\n",
       "      <td>WASHINGTON (Reuters)</td>\n",
       "    </tr>\n",
       "    <tr>\n",
       "      <th>2</th>\n",
       "      <td>Senior U.S. Republican senator: 'Let Mr. Muell...</td>\n",
       "      <td>The special counsel investigation of links bet...</td>\n",
       "      <td>politicsNews</td>\n",
       "      <td>December 31, 2017</td>\n",
       "      <td>WASHINGTON (Reuters)</td>\n",
       "    </tr>\n",
       "    <tr>\n",
       "      <th>3</th>\n",
       "      <td>FBI Russia probe helped by Australian diplomat...</td>\n",
       "      <td>Trump campaign adviser George Papadopoulos tol...</td>\n",
       "      <td>politicsNews</td>\n",
       "      <td>December 30, 2017</td>\n",
       "      <td>WASHINGTON (Reuters)</td>\n",
       "    </tr>\n",
       "    <tr>\n",
       "      <th>4</th>\n",
       "      <td>Trump wants Postal Service to charge 'much mor...</td>\n",
       "      <td>President Donald Trump called on the U.S. Post...</td>\n",
       "      <td>politicsNews</td>\n",
       "      <td>December 29, 2017</td>\n",
       "      <td>SEATTLE/WASHINGTON (Reuters)</td>\n",
       "    </tr>\n",
       "  </tbody>\n",
       "</table>\n",
       "</div>"
      ],
      "text/plain": [
       "                                               title  \\\n",
       "0  As U.S. budget fight looms, Republicans flip t...   \n",
       "1  U.S. military to accept transgender recruits o...   \n",
       "2  Senior U.S. Republican senator: 'Let Mr. Muell...   \n",
       "3  FBI Russia probe helped by Australian diplomat...   \n",
       "4  Trump wants Postal Service to charge 'much mor...   \n",
       "\n",
       "                                                text       subject  \\\n",
       "0  The head of a conservative Republican faction ...  politicsNews   \n",
       "1  Transgender people will be allowed for the fir...  politicsNews   \n",
       "2  The special counsel investigation of links bet...  politicsNews   \n",
       "3  Trump campaign adviser George Papadopoulos tol...  politicsNews   \n",
       "4  President Donald Trump called on the U.S. Post...  politicsNews   \n",
       "\n",
       "                 date                     publisher  \n",
       "0  December 31, 2017           WASHINGTON (Reuters)  \n",
       "1  December 29, 2017           WASHINGTON (Reuters)  \n",
       "2  December 31, 2017           WASHINGTON (Reuters)  \n",
       "3  December 30, 2017           WASHINGTON (Reuters)  \n",
       "4  December 29, 2017   SEATTLE/WASHINGTON (Reuters)  "
      ]
     },
     "execution_count": 29,
     "metadata": {},
     "output_type": "execute_result"
    }
   ],
   "source": [
    "real.head()"
   ]
  },
  {
   "cell_type": "code",
   "execution_count": 30,
   "id": "0e14fbe2",
   "metadata": {},
   "outputs": [
    {
     "data": {
      "text/plain": [
       "(21416, 5)"
      ]
     },
     "execution_count": 30,
     "metadata": {},
     "output_type": "execute_result"
    }
   ],
   "source": [
    "real.shape"
   ]
  },
  {
   "cell_type": "code",
   "execution_count": 31,
   "id": "9d33670b",
   "metadata": {},
   "outputs": [],
   "source": [
    "empty_fake_index = [index for index,text in enumerate(fake.text.tolist()) if str(text).strip()==\"\"]"
   ]
  },
  {
   "cell_type": "code",
   "execution_count": 32,
   "id": "eabdd69a",
   "metadata": {},
   "outputs": [
    {
     "data": {
      "text/html": [
       "<div>\n",
       "<style scoped>\n",
       "    .dataframe tbody tr th:only-of-type {\n",
       "        vertical-align: middle;\n",
       "    }\n",
       "\n",
       "    .dataframe tbody tr th {\n",
       "        vertical-align: top;\n",
       "    }\n",
       "\n",
       "    .dataframe thead th {\n",
       "        text-align: right;\n",
       "    }\n",
       "</style>\n",
       "<table border=\"1\" class=\"dataframe\">\n",
       "  <thead>\n",
       "    <tr style=\"text-align: right;\">\n",
       "      <th></th>\n",
       "      <th>title</th>\n",
       "      <th>text</th>\n",
       "      <th>subject</th>\n",
       "      <th>date</th>\n",
       "    </tr>\n",
       "  </thead>\n",
       "  <tbody>\n",
       "    <tr>\n",
       "      <th>10923</th>\n",
       "      <td>TAKE OUR POLL: Who Do You Think President Trum...</td>\n",
       "      <td></td>\n",
       "      <td>politics</td>\n",
       "      <td>May 10, 2017</td>\n",
       "    </tr>\n",
       "    <tr>\n",
       "      <th>11041</th>\n",
       "      <td>Joe Scarborough BERATES Mika Brzezinski Over “...</td>\n",
       "      <td></td>\n",
       "      <td>politics</td>\n",
       "      <td>Apr 26, 2017</td>\n",
       "    </tr>\n",
       "    <tr>\n",
       "      <th>11190</th>\n",
       "      <td>WATCH TUCKER CARLSON Scorch Sanctuary City May...</td>\n",
       "      <td></td>\n",
       "      <td>politics</td>\n",
       "      <td>Apr 6, 2017</td>\n",
       "    </tr>\n",
       "    <tr>\n",
       "      <th>11225</th>\n",
       "      <td>MAYOR OF SANCTUARY CITY: Trump Trying To Make ...</td>\n",
       "      <td></td>\n",
       "      <td>politics</td>\n",
       "      <td>Apr 2, 2017</td>\n",
       "    </tr>\n",
       "    <tr>\n",
       "      <th>11236</th>\n",
       "      <td>SHOCKER: Public School Turns Computer Lab Into...</td>\n",
       "      <td></td>\n",
       "      <td>politics</td>\n",
       "      <td>Apr 1, 2017</td>\n",
       "    </tr>\n",
       "    <tr>\n",
       "      <th>...</th>\n",
       "      <td>...</td>\n",
       "      <td>...</td>\n",
       "      <td>...</td>\n",
       "      <td>...</td>\n",
       "    </tr>\n",
       "    <tr>\n",
       "      <th>21816</th>\n",
       "      <td>BALTIMORE BURNS: MARYLAND GOVERNOR BRINGS IN N...</td>\n",
       "      <td></td>\n",
       "      <td>left-news</td>\n",
       "      <td>Apr 27, 2015</td>\n",
       "    </tr>\n",
       "    <tr>\n",
       "      <th>21826</th>\n",
       "      <td>FULL VIDEO: THE BLOCKBUSTER INVESTIGATION INTO...</td>\n",
       "      <td></td>\n",
       "      <td>left-news</td>\n",
       "      <td>Apr 25, 2015</td>\n",
       "    </tr>\n",
       "    <tr>\n",
       "      <th>21827</th>\n",
       "      <td>(VIDEO) HILLARY CLINTON: RELIGIOUS BELIEFS MUS...</td>\n",
       "      <td></td>\n",
       "      <td>left-news</td>\n",
       "      <td>Apr 25, 2015</td>\n",
       "    </tr>\n",
       "    <tr>\n",
       "      <th>21857</th>\n",
       "      <td>(VIDEO)ICE PROTECTING OBAMA: WON’T RELEASE NAM...</td>\n",
       "      <td></td>\n",
       "      <td>left-news</td>\n",
       "      <td>Apr 14, 2015</td>\n",
       "    </tr>\n",
       "    <tr>\n",
       "      <th>21873</th>\n",
       "      <td>(VIDEO) HYSTERICAL SNL TAKE ON HILLARY’S ANNOU...</td>\n",
       "      <td></td>\n",
       "      <td>left-news</td>\n",
       "      <td>Apr 12, 2015</td>\n",
       "    </tr>\n",
       "  </tbody>\n",
       "</table>\n",
       "<p>630 rows × 4 columns</p>\n",
       "</div>"
      ],
      "text/plain": [
       "                                                   title text    subject  \\\n",
       "10923  TAKE OUR POLL: Who Do You Think President Trum...        politics   \n",
       "11041  Joe Scarborough BERATES Mika Brzezinski Over “...        politics   \n",
       "11190  WATCH TUCKER CARLSON Scorch Sanctuary City May...        politics   \n",
       "11225  MAYOR OF SANCTUARY CITY: Trump Trying To Make ...        politics   \n",
       "11236  SHOCKER: Public School Turns Computer Lab Into...        politics   \n",
       "...                                                  ...  ...        ...   \n",
       "21816  BALTIMORE BURNS: MARYLAND GOVERNOR BRINGS IN N...       left-news   \n",
       "21826  FULL VIDEO: THE BLOCKBUSTER INVESTIGATION INTO...       left-news   \n",
       "21827  (VIDEO) HILLARY CLINTON: RELIGIOUS BELIEFS MUS...       left-news   \n",
       "21857  (VIDEO)ICE PROTECTING OBAMA: WON’T RELEASE NAM...       left-news   \n",
       "21873  (VIDEO) HYSTERICAL SNL TAKE ON HILLARY’S ANNOU...       left-news   \n",
       "\n",
       "               date  \n",
       "10923  May 10, 2017  \n",
       "11041  Apr 26, 2017  \n",
       "11190   Apr 6, 2017  \n",
       "11225   Apr 2, 2017  \n",
       "11236   Apr 1, 2017  \n",
       "...             ...  \n",
       "21816  Apr 27, 2015  \n",
       "21826  Apr 25, 2015  \n",
       "21827  Apr 25, 2015  \n",
       "21857  Apr 14, 2015  \n",
       "21873  Apr 12, 2015  \n",
       "\n",
       "[630 rows x 4 columns]"
      ]
     },
     "execution_count": 32,
     "metadata": {},
     "output_type": "execute_result"
    }
   ],
   "source": [
    "fake.iloc[empty_fake_index]"
   ]
  },
  {
   "cell_type": "code",
   "execution_count": 33,
   "id": "329126d5",
   "metadata": {},
   "outputs": [],
   "source": [
    "real['text'] = real['title']+\" \"+real['text']\n",
    "fake['text'] = fake['title']+\" \"+fake['text']"
   ]
  },
  {
   "cell_type": "code",
   "execution_count": 34,
   "id": "37159540",
   "metadata": {},
   "outputs": [],
   "source": [
    "real['text'] = real['text'].apply(lambda x: str(x).lower())\n",
    "fake['text'] = fake['text'].apply(lambda x: str(x).lower())"
   ]
  },
  {
   "cell_type": "code",
   "execution_count": 35,
   "id": "084feba0",
   "metadata": {},
   "outputs": [],
   "source": [
    "real['class'] = 1\n",
    "fake['class'] = 0"
   ]
  },
  {
   "cell_type": "code",
   "execution_count": 36,
   "id": "c0ba447d",
   "metadata": {},
   "outputs": [
    {
     "data": {
      "text/plain": [
       "Index(['title', 'text', 'subject', 'date', 'publisher', 'class'], dtype='object')"
      ]
     },
     "execution_count": 36,
     "metadata": {},
     "output_type": "execute_result"
    }
   ],
   "source": [
    "real.columns"
   ]
  },
  {
   "cell_type": "code",
   "execution_count": 37,
   "id": "9cc0582a",
   "metadata": {},
   "outputs": [],
   "source": [
    "real = real[['text' , 'class']]"
   ]
  },
  {
   "cell_type": "code",
   "execution_count": 38,
   "id": "87af89d5",
   "metadata": {},
   "outputs": [],
   "source": [
    "fake = fake[['text' , 'class']]"
   ]
  },
  {
   "cell_type": "code",
   "execution_count": 39,
   "id": "49190c1d",
   "metadata": {},
   "outputs": [
    {
     "name": "stderr",
     "output_type": "stream",
     "text": [
      "C:\\Users\\22rit\\AppData\\Local\\Temp\\ipykernel_15320\\1474393329.py:1: FutureWarning: The frame.append method is deprecated and will be removed from pandas in a future version. Use pandas.concat instead.\n",
      "  data = real.append(fake, ignore_index=True)\n"
     ]
    }
   ],
   "source": [
    "data = real.append(fake, ignore_index=True)"
   ]
  },
  {
   "cell_type": "code",
   "execution_count": 40,
   "id": "227684d8",
   "metadata": {},
   "outputs": [
    {
     "data": {
      "text/html": [
       "<div>\n",
       "<style scoped>\n",
       "    .dataframe tbody tr th:only-of-type {\n",
       "        vertical-align: middle;\n",
       "    }\n",
       "\n",
       "    .dataframe tbody tr th {\n",
       "        vertical-align: top;\n",
       "    }\n",
       "\n",
       "    .dataframe thead th {\n",
       "        text-align: right;\n",
       "    }\n",
       "</style>\n",
       "<table border=\"1\" class=\"dataframe\">\n",
       "  <thead>\n",
       "    <tr style=\"text-align: right;\">\n",
       "      <th></th>\n",
       "      <th>text</th>\n",
       "      <th>class</th>\n",
       "    </tr>\n",
       "  </thead>\n",
       "  <tbody>\n",
       "    <tr>\n",
       "      <th>22476</th>\n",
       "      <td>montana dems hilariously troll reporter-slamm...</td>\n",
       "      <td>0</td>\n",
       "    </tr>\n",
       "    <tr>\n",
       "      <th>32869</th>\n",
       "      <td>lol! nancy pelosi: “i’m not sure if ironically...</td>\n",
       "      <td>0</td>\n",
       "    </tr>\n",
       "    <tr>\n",
       "      <th>14999</th>\n",
       "      <td>telefonica suspends customer service operation...</td>\n",
       "      <td>1</td>\n",
       "    </tr>\n",
       "    <tr>\n",
       "      <th>1838</th>\n",
       "      <td>senate passes disaster aid, government funding...</td>\n",
       "      <td>1</td>\n",
       "    </tr>\n",
       "    <tr>\n",
       "      <th>6937</th>\n",
       "      <td>duterte says felt rapport with trump, assures ...</td>\n",
       "      <td>1</td>\n",
       "    </tr>\n",
       "  </tbody>\n",
       "</table>\n",
       "</div>"
      ],
      "text/plain": [
       "                                                    text  class\n",
       "22476   montana dems hilariously troll reporter-slamm...      0\n",
       "32869  lol! nancy pelosi: “i’m not sure if ironically...      0\n",
       "14999  telefonica suspends customer service operation...      1\n",
       "1838   senate passes disaster aid, government funding...      1\n",
       "6937   duterte says felt rapport with trump, assures ...      1"
      ]
     },
     "execution_count": 40,
     "metadata": {},
     "output_type": "execute_result"
    }
   ],
   "source": [
    "data.sample(5)"
   ]
  },
  {
   "cell_type": "code",
   "execution_count": 41,
   "id": "652e4017",
   "metadata": {},
   "outputs": [
    {
     "name": "stdout",
     "output_type": "stream",
     "text": [
      "Collecting spacy==2.2.3\n",
      "  Using cached spacy-2.2.3.tar.gz (5.9 MB)\n",
      "  Installing build dependencies: started\n",
      "  Installing build dependencies: finished with status 'done'\n",
      "  Getting requirements to build wheel: started\n",
      "  Getting requirements to build wheel: finished with status 'done'\n",
      "  Installing backend dependencies: started\n",
      "  Installing backend dependencies: finished with status 'error'\n"
     ]
    },
    {
     "name": "stderr",
     "output_type": "stream",
     "text": [
      "  error: subprocess-exited-with-error\n",
      "  \n",
      "  pip subprocess to install backend dependencies did not run successfully.\n",
      "  exit code: 1\n",
      "  \n",
      "  [290 lines of output]\n",
      "  Collecting preshed<3.1.0,>=3.0.2\n",
      "    Using cached preshed-3.0.6-cp39-cp39-win_amd64.whl (112 kB)\n",
      "  Collecting wheel\n",
      "    Using cached wheel-0.37.1-py2.py3-none-any.whl (35 kB)\n",
      "  Collecting cython>=0.25\n",
      "    Using cached Cython-0.29.28-py2.py3-none-any.whl (983 kB)\n",
      "  Collecting murmurhash<1.1.0,>=0.28.0\n",
      "    Using cached murmurhash-1.0.7-cp39-cp39-win_amd64.whl (18 kB)\n",
      "  Collecting cymem<2.1.0,>=2.0.2\n",
      "    Using cached cymem-2.0.6-cp39-cp39-win_amd64.whl (36 kB)\n",
      "  Collecting thinc<7.4.0,>=7.3.0\n",
      "    Using cached thinc-7.3.1.tar.gz (2.0 MB)\n",
      "    Preparing metadata (setup.py): started\n",
      "    Preparing metadata (setup.py): finished with status 'done'\n",
      "  Collecting blis<0.5.0,>=0.4.0\n",
      "    Using cached blis-0.4.1.tar.gz (1.8 MB)\n",
      "    Preparing metadata (setup.py): started\n",
      "    Preparing metadata (setup.py): finished with status 'done'\n",
      "  Collecting wasabi<1.1.0,>=0.0.9\n",
      "    Using cached wasabi-0.9.1-py3-none-any.whl (26 kB)\n",
      "  Collecting srsly<1.1.0,>=0.0.6\n",
      "    Using cached srsly-1.0.5-cp39-cp39-win_amd64.whl (177 kB)\n",
      "  Collecting numpy>=1.7.0\n",
      "    Using cached numpy-1.22.3-cp39-cp39-win_amd64.whl (14.7 MB)\n",
      "  Collecting plac<1.2.0,>=0.9.6\n",
      "    Using cached plac-1.1.3-py2.py3-none-any.whl (20 kB)\n",
      "  Collecting tqdm<5.0.0,>=4.10.0\n",
      "    Using cached tqdm-4.64.0-py2.py3-none-any.whl (78 kB)\n",
      "  Collecting colorama\n",
      "    Using cached colorama-0.4.4-py2.py3-none-any.whl (16 kB)\n",
      "  Building wheels for collected packages: thinc, blis\n",
      "    Building wheel for thinc (setup.py): started\n",
      "    Building wheel for thinc (setup.py): finished with status 'error'\n",
      "    error: subprocess-exited-with-error\n",
      "  \n",
      "    python setup.py bdist_wheel did not run successfully.\n",
      "    exit code: 1\n",
      "  \n",
      "    [170 lines of output]\n",
      "    running bdist_wheel\n",
      "    running build\n",
      "    running build_py\n",
      "    creating build\n",
      "    creating build\\lib.win-amd64-3.9\n",
      "    creating build\\lib.win-amd64-3.9\\thinc\n",
      "    copying thinc\\about.py -> build\\lib.win-amd64-3.9\\thinc\n",
      "    copying thinc\\api.py -> build\\lib.win-amd64-3.9\\thinc\n",
      "    copying thinc\\check.py -> build\\lib.win-amd64-3.9\\thinc\n",
      "    copying thinc\\compat.py -> build\\lib.win-amd64-3.9\\thinc\n",
      "    copying thinc\\describe.py -> build\\lib.win-amd64-3.9\\thinc\n",
      "    copying thinc\\exceptions.py -> build\\lib.win-amd64-3.9\\thinc\n",
      "    copying thinc\\i2v.py -> build\\lib.win-amd64-3.9\\thinc\n",
      "    copying thinc\\loss.py -> build\\lib.win-amd64-3.9\\thinc\n",
      "    copying thinc\\misc.py -> build\\lib.win-amd64-3.9\\thinc\n",
      "    copying thinc\\rates.py -> build\\lib.win-amd64-3.9\\thinc\n",
      "    copying thinc\\t2t.py -> build\\lib.win-amd64-3.9\\thinc\n",
      "    copying thinc\\t2v.py -> build\\lib.win-amd64-3.9\\thinc\n",
      "    copying thinc\\v2v.py -> build\\lib.win-amd64-3.9\\thinc\n",
      "    copying thinc\\__init__.py -> build\\lib.win-amd64-3.9\\thinc\n",
      "    creating build\\lib.win-amd64-3.9\\thinc\\tests\n",
      "    copying thinc\\tests\\conftest.py -> build\\lib.win-amd64-3.9\\thinc\\tests\n",
      "    copying thinc\\tests\\strategies.py -> build\\lib.win-amd64-3.9\\thinc\\tests\n",
      "    copying thinc\\tests\\test_api_funcs.py -> build\\lib.win-amd64-3.9\\thinc\\tests\n",
      "    copying thinc\\tests\\test_util.py -> build\\lib.win-amd64-3.9\\thinc\\tests\n",
      "    copying thinc\\tests\\util.py -> build\\lib.win-amd64-3.9\\thinc\\tests\n",
      "    copying thinc\\tests\\__init__.py -> build\\lib.win-amd64-3.9\\thinc\\tests\n",
      "    creating build\\lib.win-amd64-3.9\\thinc\\tests\\unit\n",
      "    copying thinc\\tests\\unit\\test_about.py -> build\\lib.win-amd64-3.9\\thinc\\tests\\unit\n",
      "    copying thinc\\tests\\unit\\test_affine.py -> build\\lib.win-amd64-3.9\\thinc\\tests\\unit\n",
      "    copying thinc\\tests\\unit\\test_beam_search.py -> build\\lib.win-amd64-3.9\\thinc\\tests\\unit\n",
      "    copying thinc\\tests\\unit\\test_check_exceptions.py -> build\\lib.win-amd64-3.9\\thinc\\tests\\unit\n",
      "    copying thinc\\tests\\unit\\test_difference.py -> build\\lib.win-amd64-3.9\\thinc\\tests\\unit\n",
      "    copying thinc\\tests\\unit\\test_feature_extracter.py -> build\\lib.win-amd64-3.9\\thinc\\tests\\unit\n",
      "    copying thinc\\tests\\unit\\test_hash_embed.py -> build\\lib.win-amd64-3.9\\thinc\\tests\\unit\n",
      "    copying thinc\\tests\\unit\\test_imports.py -> build\\lib.win-amd64-3.9\\thinc\\tests\\unit\n",
      "    copying thinc\\tests\\unit\\test_linear.py -> build\\lib.win-amd64-3.9\\thinc\\tests\\unit\n",
      "    copying thinc\\tests\\unit\\test_loss.py -> build\\lib.win-amd64-3.9\\thinc\\tests\\unit\n",
      "    copying thinc\\tests\\unit\\test_mem.py -> build\\lib.win-amd64-3.9\\thinc\\tests\\unit\n",
      "    copying thinc\\tests\\unit\\test_model.py -> build\\lib.win-amd64-3.9\\thinc\\tests\\unit\n",
      "    copying thinc\\tests\\unit\\test_ops.py -> build\\lib.win-amd64-3.9\\thinc\\tests\\unit\n",
      "    copying thinc\\tests\\unit\\test_pickle.py -> build\\lib.win-amd64-3.9\\thinc\\tests\\unit\n",
      "    copying thinc\\tests\\unit\\test_pooling.py -> build\\lib.win-amd64-3.9\\thinc\\tests\\unit\n",
      "    copying thinc\\tests\\unit\\test_pytorch_wrapper.py -> build\\lib.win-amd64-3.9\\thinc\\tests\\unit\n",
      "    copying thinc\\tests\\unit\\test_rates.py -> build\\lib.win-amd64-3.9\\thinc\\tests\\unit\n",
      "    copying thinc\\tests\\unit\\test_rnn.py -> build\\lib.win-amd64-3.9\\thinc\\tests\\unit\n",
      "    copying thinc\\tests\\unit\\__init__.py -> build\\lib.win-amd64-3.9\\thinc\\tests\\unit\n",
      "    creating build\\lib.win-amd64-3.9\\thinc\\tests\\integration\n",
      "    copying thinc\\tests\\integration\\test_affine_learns.py -> build\\lib.win-amd64-3.9\\thinc\\tests\\integration\n",
      "    copying thinc\\tests\\integration\\test_basic_tagger.py -> build\\lib.win-amd64-3.9\\thinc\\tests\\integration\n",
      "    copying thinc\\tests\\integration\\test_batch_norm.py -> build\\lib.win-amd64-3.9\\thinc\\tests\\integration\n",
      "    copying thinc\\tests\\integration\\test_feed_forward.py -> build\\lib.win-amd64-3.9\\thinc\\tests\\integration\n",
      "    copying thinc\\tests\\integration\\test_mnist.py -> build\\lib.win-amd64-3.9\\thinc\\tests\\integration\n",
      "    copying thinc\\tests\\integration\\test_pickle.py -> build\\lib.win-amd64-3.9\\thinc\\tests\\integration\n",
      "    copying thinc\\tests\\integration\\test_roundtrip_bytes.py -> build\\lib.win-amd64-3.9\\thinc\\tests\\integration\n",
      "    copying thinc\\tests\\integration\\test_shape_check.py -> build\\lib.win-amd64-3.9\\thinc\\tests\\integration\n",
      "    copying thinc\\tests\\integration\\__init__.py -> build\\lib.win-amd64-3.9\\thinc\\tests\\integration\n",
      "    creating build\\lib.win-amd64-3.9\\thinc\\tests\\linear\n",
      "    copying thinc\\tests\\linear\\test_avgtron.py -> build\\lib.win-amd64-3.9\\thinc\\tests\\linear\n",
      "    copying thinc\\tests\\linear\\test_linear.py -> build\\lib.win-amd64-3.9\\thinc\\tests\\linear\n",
      "    copying thinc\\tests\\linear\\test_sparse_array.py -> build\\lib.win-amd64-3.9\\thinc\\tests\\linear\n",
      "    copying thinc\\tests\\linear\\__init__.py -> build\\lib.win-amd64-3.9\\thinc\\tests\\linear\n",
      "    creating build\\lib.win-amd64-3.9\\thinc\\linear\n",
      "    copying thinc\\linear\\__init__.py -> build\\lib.win-amd64-3.9\\thinc\\linear\n",
      "    creating build\\lib.win-amd64-3.9\\thinc\\neural\n",
      "    copying thinc\\neural\\mem.py -> build\\lib.win-amd64-3.9\\thinc\\neural\n",
      "    copying thinc\\neural\\pooling.py -> build\\lib.win-amd64-3.9\\thinc\\neural\n",
      "    copying thinc\\neural\\train.py -> build\\lib.win-amd64-3.9\\thinc\\neural\n",
      "    copying thinc\\neural\\util.py -> build\\lib.win-amd64-3.9\\thinc\\neural\n",
      "    copying thinc\\neural\\vec2vec.py -> build\\lib.win-amd64-3.9\\thinc\\neural\n",
      "    copying thinc\\neural\\vecs2vec.py -> build\\lib.win-amd64-3.9\\thinc\\neural\n",
      "    copying thinc\\neural\\vecs2vecs.py -> build\\lib.win-amd64-3.9\\thinc\\neural\n",
      "    copying thinc\\neural\\_custom_kernels.py -> build\\lib.win-amd64-3.9\\thinc\\neural\n",
      "    copying thinc\\neural\\_lsuv.py -> build\\lib.win-amd64-3.9\\thinc\\neural\n",
      "    copying thinc\\neural\\__init__.py -> build\\lib.win-amd64-3.9\\thinc\\neural\n",
      "    creating build\\lib.win-amd64-3.9\\thinc\\extra\n",
      "    copying thinc\\extra\\datasets.py -> build\\lib.win-amd64-3.9\\thinc\\extra\n",
      "    copying thinc\\extra\\hpbff.py -> build\\lib.win-amd64-3.9\\thinc\\extra\n",
      "    copying thinc\\extra\\load_nlp.py -> build\\lib.win-amd64-3.9\\thinc\\extra\n",
      "    copying thinc\\extra\\visualizer.py -> build\\lib.win-amd64-3.9\\thinc\\extra\n",
      "    copying thinc\\extra\\wrappers.py -> build\\lib.win-amd64-3.9\\thinc\\extra\n",
      "    copying thinc\\extra\\__init__.py -> build\\lib.win-amd64-3.9\\thinc\\extra\n",
      "    creating build\\lib.win-amd64-3.9\\thinc\\neural\\_classes\n",
      "    copying thinc\\neural\\_classes\\affine.py -> build\\lib.win-amd64-3.9\\thinc\\neural\\_classes\n",
      "    copying thinc\\neural\\_classes\\attention.py -> build\\lib.win-amd64-3.9\\thinc\\neural\\_classes\n",
      "    copying thinc\\neural\\_classes\\batchnorm.py -> build\\lib.win-amd64-3.9\\thinc\\neural\\_classes\n",
      "    copying thinc\\neural\\_classes\\convolution.py -> build\\lib.win-amd64-3.9\\thinc\\neural\\_classes\n",
      "    copying thinc\\neural\\_classes\\difference.py -> build\\lib.win-amd64-3.9\\thinc\\neural\\_classes\n",
      "    copying thinc\\neural\\_classes\\elu.py -> build\\lib.win-amd64-3.9\\thinc\\neural\\_classes\n",
      "    copying thinc\\neural\\_classes\\embed.py -> build\\lib.win-amd64-3.9\\thinc\\neural\\_classes\n",
      "    copying thinc\\neural\\_classes\\encoder_decoder.py -> build\\lib.win-amd64-3.9\\thinc\\neural\\_classes\n",
      "    copying thinc\\neural\\_classes\\feature_extracter.py -> build\\lib.win-amd64-3.9\\thinc\\neural\\_classes\n",
      "    copying thinc\\neural\\_classes\\feed_forward.py -> build\\lib.win-amd64-3.9\\thinc\\neural\\_classes\n",
      "    copying thinc\\neural\\_classes\\function_layer.py -> build\\lib.win-amd64-3.9\\thinc\\neural\\_classes\n",
      "    copying thinc\\neural\\_classes\\hash_embed.py -> build\\lib.win-amd64-3.9\\thinc\\neural\\_classes\n",
      "    copying thinc\\neural\\_classes\\layernorm.py -> build\\lib.win-amd64-3.9\\thinc\\neural\\_classes\n",
      "    copying thinc\\neural\\_classes\\maxout.py -> build\\lib.win-amd64-3.9\\thinc\\neural\\_classes\n",
      "    copying thinc\\neural\\_classes\\mish.py -> build\\lib.win-amd64-3.9\\thinc\\neural\\_classes\n",
      "    copying thinc\\neural\\_classes\\model.py -> build\\lib.win-amd64-3.9\\thinc\\neural\\_classes\n",
      "    copying thinc\\neural\\_classes\\multiheaded_attention.py -> build\\lib.win-amd64-3.9\\thinc\\neural\\_classes\n",
      "    copying thinc\\neural\\_classes\\relu.py -> build\\lib.win-amd64-3.9\\thinc\\neural\\_classes\n",
      "    copying thinc\\neural\\_classes\\resnet.py -> build\\lib.win-amd64-3.9\\thinc\\neural\\_classes\n",
      "    copying thinc\\neural\\_classes\\rnn.py -> build\\lib.win-amd64-3.9\\thinc\\neural\\_classes\n",
      "    copying thinc\\neural\\_classes\\selu.py -> build\\lib.win-amd64-3.9\\thinc\\neural\\_classes\n",
      "    copying thinc\\neural\\_classes\\softmax.py -> build\\lib.win-amd64-3.9\\thinc\\neural\\_classes\n",
      "    copying thinc\\neural\\_classes\\static_vectors.py -> build\\lib.win-amd64-3.9\\thinc\\neural\\_classes\n",
      "    copying thinc\\neural\\_classes\\__init__.py -> build\\lib.win-amd64-3.9\\thinc\\neural\\_classes\n",
      "    creating build\\lib.win-amd64-3.9\\thinc\\extra\\_vendorized\n",
      "    copying thinc\\extra\\_vendorized\\keras_datasets.py -> build\\lib.win-amd64-3.9\\thinc\\extra\\_vendorized\n",
      "    copying thinc\\extra\\_vendorized\\keras_data_utils.py -> build\\lib.win-amd64-3.9\\thinc\\extra\\_vendorized\n",
      "    copying thinc\\extra\\_vendorized\\keras_generic_utils.py -> build\\lib.win-amd64-3.9\\thinc\\extra\\_vendorized\n",
      "    copying thinc\\extra\\_vendorized\\__init__.py -> build\\lib.win-amd64-3.9\\thinc\\extra\\_vendorized\n",
      "    creating build\\lib.win-amd64-3.9\\thinc\\extra\\wrapt\n",
      "    copying thinc\\extra\\wrapt\\decorators.py -> build\\lib.win-amd64-3.9\\thinc\\extra\\wrapt\n",
      "    copying thinc\\extra\\wrapt\\importer.py -> build\\lib.win-amd64-3.9\\thinc\\extra\\wrapt\n",
      "    copying thinc\\extra\\wrapt\\wrappers.py -> build\\lib.win-amd64-3.9\\thinc\\extra\\wrapt\n",
      "    copying thinc\\extra\\wrapt\\__init__.py -> build\\lib.win-amd64-3.9\\thinc\\extra\\wrapt\n",
      "    copying thinc\\linalg.pyx -> build\\lib.win-amd64-3.9\\thinc\n",
      "    copying thinc\\structs.pyx -> build\\lib.win-amd64-3.9\\thinc\n",
      "    copying thinc\\typedefs.pyx -> build\\lib.win-amd64-3.9\\thinc\n",
      "    copying thinc\\cpu.pxd -> build\\lib.win-amd64-3.9\\thinc\n",
      "    copying thinc\\linalg.pxd -> build\\lib.win-amd64-3.9\\thinc\n",
      "    copying thinc\\structs.pxd -> build\\lib.win-amd64-3.9\\thinc\n",
      "    copying thinc\\typedefs.pxd -> build\\lib.win-amd64-3.9\\thinc\n",
      "    copying thinc\\__init__.pxd -> build\\lib.win-amd64-3.9\\thinc\n",
      "    copying thinc\\compile_time_constants.pxi -> build\\lib.win-amd64-3.9\\thinc\n",
      "    copying thinc\\linalg.cpp -> build\\lib.win-amd64-3.9\\thinc\n",
      "    copying thinc\\structs.cpp -> build\\lib.win-amd64-3.9\\thinc\n",
      "    copying thinc\\typedefs.cpp -> build\\lib.win-amd64-3.9\\thinc\n",
      "    copying thinc\\linear\\avgtron.pyx -> build\\lib.win-amd64-3.9\\thinc\\linear\n",
      "    copying thinc\\linear\\features.pyx -> build\\lib.win-amd64-3.9\\thinc\\linear\n",
      "    copying thinc\\linear\\linear.pyx -> build\\lib.win-amd64-3.9\\thinc\\linear\n",
      "    copying thinc\\linear\\serialize.pyx -> build\\lib.win-amd64-3.9\\thinc\\linear\n",
      "    copying thinc\\linear\\sparse.pyx -> build\\lib.win-amd64-3.9\\thinc\\linear\n",
      "    copying thinc\\linear\\avgtron.pxd -> build\\lib.win-amd64-3.9\\thinc\\linear\n",
      "    copying thinc\\linear\\features.pxd -> build\\lib.win-amd64-3.9\\thinc\\linear\n",
      "    copying thinc\\linear\\serialize.pxd -> build\\lib.win-amd64-3.9\\thinc\\linear\n",
      "    copying thinc\\linear\\sparse.pxd -> build\\lib.win-amd64-3.9\\thinc\\linear\n",
      "    copying thinc\\linear\\__init__.pxd -> build\\lib.win-amd64-3.9\\thinc\\linear\n",
      "    copying thinc\\linear\\avgtron.cpp -> build\\lib.win-amd64-3.9\\thinc\\linear\n",
      "    copying thinc\\linear\\features.cpp -> build\\lib.win-amd64-3.9\\thinc\\linear\n",
      "    copying thinc\\linear\\linear.cpp -> build\\lib.win-amd64-3.9\\thinc\\linear\n",
      "    copying thinc\\linear\\serialize.cpp -> build\\lib.win-amd64-3.9\\thinc\\linear\n",
      "    copying thinc\\linear\\sparse.cpp -> build\\lib.win-amd64-3.9\\thinc\\linear\n",
      "    copying thinc\\neural\\ops.pyx -> build\\lib.win-amd64-3.9\\thinc\\neural\n",
      "    copying thinc\\neural\\optimizers.pyx -> build\\lib.win-amd64-3.9\\thinc\\neural\n",
      "    copying thinc\\neural\\_aligned_alloc.pyx -> build\\lib.win-amd64-3.9\\thinc\\neural\n",
      "    copying thinc\\neural\\cpu.pxd -> build\\lib.win-amd64-3.9\\thinc\\neural\n",
      "    copying thinc\\neural\\ops.pxd -> build\\lib.win-amd64-3.9\\thinc\\neural\n",
      "    copying thinc\\neural\\__init__.pxd -> build\\lib.win-amd64-3.9\\thinc\\neural\n",
      "    copying thinc\\neural\\ops.cpp -> build\\lib.win-amd64-3.9\\thinc\\neural\n",
      "    copying thinc\\neural\\optimizers.cpp -> build\\lib.win-amd64-3.9\\thinc\\neural\n",
      "    copying thinc\\neural\\_aligned_alloc.cpp -> build\\lib.win-amd64-3.9\\thinc\\neural\n",
      "    copying thinc\\neural\\_custom_kernels.cu -> build\\lib.win-amd64-3.9\\thinc\\neural\n",
      "    copying thinc\\neural\\_murmur3.cu -> build\\lib.win-amd64-3.9\\thinc\\neural\n",
      "    copying thinc\\extra\\cache.pyx -> build\\lib.win-amd64-3.9\\thinc\\extra\n",
      "    copying thinc\\extra\\eg.pyx -> build\\lib.win-amd64-3.9\\thinc\\extra\n",
      "    copying thinc\\extra\\mb.pyx -> build\\lib.win-amd64-3.9\\thinc\\extra\n",
      "    copying thinc\\extra\\search.pyx -> build\\lib.win-amd64-3.9\\thinc\\extra\n",
      "    copying thinc\\extra\\cache.pxd -> build\\lib.win-amd64-3.9\\thinc\\extra\n",
      "    copying thinc\\extra\\eg.pxd -> build\\lib.win-amd64-3.9\\thinc\\extra\n",
      "    copying thinc\\extra\\mb.pxd -> build\\lib.win-amd64-3.9\\thinc\\extra\n",
      "    copying thinc\\extra\\search.pxd -> build\\lib.win-amd64-3.9\\thinc\\extra\n",
      "    copying thinc\\extra\\__init__.pxd -> build\\lib.win-amd64-3.9\\thinc\\extra\n",
      "    copying thinc\\extra\\cache.cpp -> build\\lib.win-amd64-3.9\\thinc\\extra\n",
      "    copying thinc\\extra\\eg.cpp -> build\\lib.win-amd64-3.9\\thinc\\extra\n",
      "    copying thinc\\extra\\mb.cpp -> build\\lib.win-amd64-3.9\\thinc\\extra\n",
      "    copying thinc\\extra\\search.cpp -> build\\lib.win-amd64-3.9\\thinc\\extra\n",
      "    running build_ext\n",
      "    error: Microsoft Visual C++ 14.0 or greater is required. Get it with \"Microsoft C++ Build Tools\": https://visualstudio.microsoft.com/visual-cpp-build-tools/\n",
      "    [end of output]\n",
      "  \n",
      "    note: This error originates from a subprocess, and is likely not a problem with pip.\n",
      "    ERROR: Failed building wheel for thinc\n",
      "    Running setup.py clean for thinc\n",
      "    Building wheel for blis (setup.py): started\n",
      "    Building wheel for blis (setup.py): finished with status 'error'\n",
      "    error: subprocess-exited-with-error\n",
      "  \n",
      "    python setup.py bdist_wheel did not run successfully.\n",
      "    exit code: 1\n",
      "  \n",
      "    [21 lines of output]\n",
      "    BLIS_COMPILER? None\n",
      "    running bdist_wheel\n",
      "    running build\n",
      "    running build_py\n",
      "    creating build\n",
      "    creating build\\lib.win-amd64-3.9\n",
      "    creating build\\lib.win-amd64-3.9\\blis\n",
      "    copying blis\\about.py -> build\\lib.win-amd64-3.9\\blis\n",
      "    copying blis\\benchmark.py -> build\\lib.win-amd64-3.9\\blis\n",
      "    copying blis\\__init__.py -> build\\lib.win-amd64-3.9\\blis\n",
      "    creating build\\lib.win-amd64-3.9\\blis\\tests\n",
      "    copying blis\\tests\\common.py -> build\\lib.win-amd64-3.9\\blis\\tests\n",
      "    copying blis\\tests\\test_dotv.py -> build\\lib.win-amd64-3.9\\blis\\tests\n",
      "    copying blis\\tests\\test_gemm.py -> build\\lib.win-amd64-3.9\\blis\\tests\n",
      "    copying blis\\tests\\__init__.py -> build\\lib.win-amd64-3.9\\blis\\tests\n",
      "    copying blis\\cy.pyx -> build\\lib.win-amd64-3.9\\blis\n",
      "    copying blis\\py.pyx -> build\\lib.win-amd64-3.9\\blis\n",
      "    copying blis\\cy.pxd -> build\\lib.win-amd64-3.9\\blis\n",
      "    copying blis\\__init__.pxd -> build\\lib.win-amd64-3.9\\blis\n",
      "    running build_ext\n",
      "    error: Microsoft Visual C++ 14.0 or greater is required. Get it with \"Microsoft C++ Build Tools\": https://visualstudio.microsoft.com/visual-cpp-build-tools/\n",
      "    [end of output]\n",
      "  \n",
      "    note: This error originates from a subprocess, and is likely not a problem with pip.\n",
      "    ERROR: Failed building wheel for blis\n",
      "    Running setup.py clean for blis\n",
      "  Failed to build thinc blis\n",
      "  Installing collected packages: wasabi, srsly, plac, murmurhash, cymem, wheel, preshed, numpy, cython, colorama, tqdm, blis, thinc\n",
      "    Running setup.py install for blis: started\n",
      "    Running setup.py install for blis: finished with status 'error'\n",
      "    error: subprocess-exited-with-error\n",
      "  \n",
      "    Running setup.py install for blis did not run successfully.\n",
      "    exit code: 1\n",
      "  \n",
      "    [21 lines of output]\n",
      "    BLIS_COMPILER? None\n",
      "    running install\n",
      "    running build\n",
      "    running build_py\n",
      "    creating build\n",
      "    creating build\\lib.win-amd64-3.9\n",
      "    creating build\\lib.win-amd64-3.9\\blis\n",
      "    copying blis\\about.py -> build\\lib.win-amd64-3.9\\blis\n",
      "    copying blis\\benchmark.py -> build\\lib.win-amd64-3.9\\blis\n",
      "    copying blis\\__init__.py -> build\\lib.win-amd64-3.9\\blis\n",
      "    creating build\\lib.win-amd64-3.9\\blis\\tests\n",
      "    copying blis\\tests\\common.py -> build\\lib.win-amd64-3.9\\blis\\tests\n",
      "    copying blis\\tests\\test_dotv.py -> build\\lib.win-amd64-3.9\\blis\\tests\n",
      "    copying blis\\tests\\test_gemm.py -> build\\lib.win-amd64-3.9\\blis\\tests\n",
      "    copying blis\\tests\\__init__.py -> build\\lib.win-amd64-3.9\\blis\\tests\n",
      "    copying blis\\cy.pyx -> build\\lib.win-amd64-3.9\\blis\n",
      "    copying blis\\py.pyx -> build\\lib.win-amd64-3.9\\blis\n",
      "    copying blis\\cy.pxd -> build\\lib.win-amd64-3.9\\blis\n",
      "    copying blis\\__init__.pxd -> build\\lib.win-amd64-3.9\\blis\n",
      "    running build_ext\n",
      "    error: Microsoft Visual C++ 14.0 or greater is required. Get it with \"Microsoft C++ Build Tools\": https://visualstudio.microsoft.com/visual-cpp-build-tools/\n",
      "    [end of output]\n",
      "  \n",
      "    note: This error originates from a subprocess, and is likely not a problem with pip.\n",
      "  error: legacy-install-failure\n",
      "  \n",
      "  Encountered error while trying to install package.\n",
      "  \n",
      "  blis\n",
      "  \n",
      "  note: This is an issue with the package mentioned above, not pip.\n",
      "  hint: See above for output from the failure.\n",
      "  [end of output]\n",
      "  \n",
      "  note: This error originates from a subprocess, and is likely not a problem with pip.\n",
      "error: subprocess-exited-with-error\n",
      "\n",
      "pip subprocess to install backend dependencies did not run successfully.\n",
      "exit code: 1\n",
      "\n",
      "See above for output.\n",
      "\n",
      "note: This error originates from a subprocess, and is likely not a problem with pip.\n",
      "C:\\Users\\22rit\\AppData\\Local\\Programs\\Python\\Python39\\python.exe: No module named spacy\n"
     ]
    },
    {
     "name": "stdout",
     "output_type": "stream",
     "text": [
      "Requirement already satisfied: beautifulsoup4==4.9.1 in c:\\users\\22rit\\appdata\\local\\programs\\python\\python39\\lib\\site-packages (4.9.1)\n",
      "Requirement already satisfied: soupsieve>1.2 in c:\\users\\22rit\\appdata\\local\\programs\\python\\python39\\lib\\site-packages (from beautifulsoup4==4.9.1) (2.3.1)\n",
      "Requirement already satisfied: textblob==0.15.3 in c:\\users\\22rit\\appdata\\local\\programs\\python\\python39\\lib\\site-packages (0.15.3)\n",
      "Requirement already satisfied: nltk>=3.1 in c:\\users\\22rit\\appdata\\local\\programs\\python\\python39\\lib\\site-packages (from textblob==0.15.3) (3.7)\n",
      "Requirement already satisfied: click in c:\\users\\22rit\\appdata\\local\\programs\\python\\python39\\lib\\site-packages (from nltk>=3.1->textblob==0.15.3) (8.0.4)\n",
      "Requirement already satisfied: joblib in c:\\users\\22rit\\appdata\\local\\programs\\python\\python39\\lib\\site-packages (from nltk>=3.1->textblob==0.15.3) (1.1.0)\n",
      "Requirement already satisfied: regex>=2021.8.3 in c:\\users\\22rit\\appdata\\local\\programs\\python\\python39\\lib\\site-packages (from nltk>=3.1->textblob==0.15.3) (2022.3.15)\n",
      "Requirement already satisfied: tqdm in c:\\users\\22rit\\appdata\\local\\programs\\python\\python39\\lib\\site-packages (from nltk>=3.1->textblob==0.15.3) (4.63.0)\n",
      "Requirement already satisfied: colorama in c:\\users\\22rit\\appdata\\local\\programs\\python\\python39\\lib\\site-packages (from click->nltk>=3.1->textblob==0.15.3) (0.4.4)\n",
      "Collecting git+https://github.com/laxmimerit/preprocess_kgptalkie.git\n",
      "  Cloning https://github.com/laxmimerit/preprocess_kgptalkie.git to c:\\users\\22rit\\appdata\\local\\temp\\pip-req-build-t43wa3pm\n",
      "  Resolved https://github.com/laxmimerit/preprocess_kgptalkie.git to commit 9ca68d37027af9f6a30d54640347ce3b2e2694b3\n",
      "  Preparing metadata (setup.py): started\n",
      "  Preparing metadata (setup.py): finished with status 'done'\n",
      "Building wheels for collected packages: preprocess-kgptalkie\n",
      "  Building wheel for preprocess-kgptalkie (setup.py): started\n",
      "  Building wheel for preprocess-kgptalkie (setup.py): finished with status 'done'\n",
      "  Created wheel for preprocess-kgptalkie: filename=preprocess_kgptalkie-0.1.3-py3-none-any.whl size=7691 sha256=0445f23f81da492ee68c953822e3028676b699934224fb2653e9fa7df63e54d2\n",
      "  Stored in directory: C:\\Users\\22rit\\AppData\\Local\\Temp\\pip-ephem-wheel-cache-1xbd9547\\wheels\\d1\\c3\\bb\\559fe93e652b51cbc532f17e9693f3b70055f8560cf06c1fb3\n",
      "Successfully built preprocess-kgptalkie\n",
      "Installing collected packages: preprocess-kgptalkie\n",
      "  Attempting uninstall: preprocess-kgptalkie\n",
      "    Found existing installation: preprocess-kgptalkie 0.1.3\n",
      "    Uninstalling preprocess-kgptalkie-0.1.3:\n",
      "      Successfully uninstalled preprocess-kgptalkie-0.1.3\n",
      "Successfully installed preprocess-kgptalkie-0.1.3\n"
     ]
    },
    {
     "name": "stderr",
     "output_type": "stream",
     "text": [
      "  Running command git clone --filter=blob:none --quiet https://github.com/laxmimerit/preprocess_kgptalkie.git 'C:\\Users\\22rit\\AppData\\Local\\Temp\\pip-req-build-t43wa3pm'\n"
     ]
    }
   ],
   "source": [
    "!pip install spacy==2.2.3\n",
    "!python -m spacy download en_core_web_sm\n",
    "!pip install beautifulsoup4==4.9.1\n",
    "!pip install textblob==0.15.3\n",
    "!pip install git+https://github.com/laxmimerit/preprocess_kgptalkie.git --upgrade --force-reinstall"
   ]
  },
  {
   "cell_type": "code",
   "execution_count": 44,
   "id": "093a03ce",
   "metadata": {},
   "outputs": [],
   "source": [
    "import preprocess_kgptalkie as ps"
   ]
  },
  {
   "cell_type": "code",
   "execution_count": 46,
   "id": "7a040676",
   "metadata": {},
   "outputs": [
    {
     "data": {
      "text/plain": [
       "0        as us budget fight looms republicans flip thei...\n",
       "1        us military to accept transgender recruits on ...\n",
       "2        senior us republican senator let mr mueller do...\n",
       "3        fbi russia probe helped by australian diplomat...\n",
       "4        trump wants postal service to charge much more...\n",
       "                               ...                        \n",
       "44892    mcpain john mccain furious that iran treated u...\n",
       "44893    justice yahoo settles email privacy classactio...\n",
       "44894    sunnistan us and allied safe zone plan to take...\n",
       "44895    how to blow 700 million al jazeera america fin...\n",
       "44896    10 us navy sailors held by iranian military si...\n",
       "Name: text, Length: 44897, dtype: object"
      ]
     },
     "execution_count": 46,
     "metadata": {},
     "output_type": "execute_result"
    }
   ],
   "source": [
    "data['text'].apply(lambda x: ps.remove_special_chars(x))"
   ]
  },
  {
   "cell_type": "code",
   "execution_count": 47,
   "id": "fa3d6d82",
   "metadata": {},
   "outputs": [
    {
     "data": {
      "text/plain": [
       "'This is our Minor Project'"
      ]
     },
     "execution_count": 47,
     "metadata": {},
     "output_type": "execute_result"
    }
   ],
   "source": [
    "#Example\n",
    "ps.remove_special_chars('This #is @our Mino$r Project&')"
   ]
  },
  {
   "cell_type": "code",
   "execution_count": 48,
   "id": "67439f4c",
   "metadata": {},
   "outputs": [
    {
     "data": {
      "text/html": [
       "<div>\n",
       "<style scoped>\n",
       "    .dataframe tbody tr th:only-of-type {\n",
       "        vertical-align: middle;\n",
       "    }\n",
       "\n",
       "    .dataframe tbody tr th {\n",
       "        vertical-align: top;\n",
       "    }\n",
       "\n",
       "    .dataframe thead th {\n",
       "        text-align: right;\n",
       "    }\n",
       "</style>\n",
       "<table border=\"1\" class=\"dataframe\">\n",
       "  <thead>\n",
       "    <tr style=\"text-align: right;\">\n",
       "      <th></th>\n",
       "      <th>text</th>\n",
       "      <th>class</th>\n",
       "    </tr>\n",
       "  </thead>\n",
       "  <tbody>\n",
       "    <tr>\n",
       "      <th>0</th>\n",
       "      <td>as u.s. budget fight looms, republicans flip t...</td>\n",
       "      <td>1</td>\n",
       "    </tr>\n",
       "    <tr>\n",
       "      <th>1</th>\n",
       "      <td>u.s. military to accept transgender recruits o...</td>\n",
       "      <td>1</td>\n",
       "    </tr>\n",
       "    <tr>\n",
       "      <th>2</th>\n",
       "      <td>senior u.s. republican senator: 'let mr. muell...</td>\n",
       "      <td>1</td>\n",
       "    </tr>\n",
       "    <tr>\n",
       "      <th>3</th>\n",
       "      <td>fbi russia probe helped by australian diplomat...</td>\n",
       "      <td>1</td>\n",
       "    </tr>\n",
       "    <tr>\n",
       "      <th>4</th>\n",
       "      <td>trump wants postal service to charge 'much mor...</td>\n",
       "      <td>1</td>\n",
       "    </tr>\n",
       "  </tbody>\n",
       "</table>\n",
       "</div>"
      ],
      "text/plain": [
       "                                                text  class\n",
       "0  as u.s. budget fight looms, republicans flip t...      1\n",
       "1  u.s. military to accept transgender recruits o...      1\n",
       "2  senior u.s. republican senator: 'let mr. muell...      1\n",
       "3  fbi russia probe helped by australian diplomat...      1\n",
       "4  trump wants postal service to charge 'much mor...      1"
      ]
     },
     "execution_count": 48,
     "metadata": {},
     "output_type": "execute_result"
    }
   ],
   "source": [
    "data.head()"
   ]
  },
  {
   "cell_type": "code",
   "execution_count": 49,
   "id": "42d3c16f",
   "metadata": {},
   "outputs": [],
   "source": [
    "import gensim"
   ]
  },
  {
   "cell_type": "code",
   "execution_count": 50,
   "id": "600682bc",
   "metadata": {},
   "outputs": [],
   "source": [
    "y = data['class'].values"
   ]
  },
  {
   "cell_type": "code",
   "execution_count": 53,
   "id": "3db339d3",
   "metadata": {},
   "outputs": [],
   "source": [
    "x = [d.split() for d in data['text'].tolist()]"
   ]
  },
  {
   "cell_type": "code",
   "execution_count": 54,
   "id": "20a9183a",
   "metadata": {},
   "outputs": [
    {
     "data": {
      "text/plain": [
       "list"
      ]
     },
     "execution_count": 54,
     "metadata": {},
     "output_type": "execute_result"
    }
   ],
   "source": [
    "type(x)"
   ]
  },
  {
   "cell_type": "code",
   "execution_count": 55,
   "id": "77e3be03",
   "metadata": {},
   "outputs": [
    {
     "data": {
      "text/plain": [
       "list"
      ]
     },
     "execution_count": 55,
     "metadata": {},
     "output_type": "execute_result"
    }
   ],
   "source": [
    "type(x[0])"
   ]
  },
  {
   "cell_type": "code",
   "execution_count": 59,
   "id": "8ca6a376",
   "metadata": {},
   "outputs": [],
   "source": [
    "DIM = 100"
   ]
  },
  {
   "cell_type": "code",
   "execution_count": 61,
   "id": "f3e37793",
   "metadata": {},
   "outputs": [],
   "source": [
    "w2v_model = gensim.models.Word2Vec(sentences=x, vector_size=DIM, window=10, min_count=1)"
   ]
  },
  {
   "cell_type": "code",
   "execution_count": 68,
   "id": "cf79c188",
   "metadata": {},
   "outputs": [
    {
     "data": {
      "text/plain": [
       "375373"
      ]
     },
     "execution_count": 68,
     "metadata": {},
     "output_type": "execute_result"
    }
   ],
   "source": [
    "len(w2v_model.wv.key_to_index)"
   ]
  },
  {
   "cell_type": "code",
   "execution_count": 72,
   "id": "f6b994a4",
   "metadata": {},
   "outputs": [
    {
     "data": {
      "text/plain": [
       "<gensim.models.keyedvectors.KeyedVectors at 0x202edf94f70>"
      ]
     },
     "execution_count": 72,
     "metadata": {},
     "output_type": "execute_result"
    }
   ],
   "source": [
    "w2v_model.wv"
   ]
  },
  {
   "cell_type": "code",
   "execution_count": 78,
   "id": "e5cfd6c2",
   "metadata": {},
   "outputs": [
    {
     "data": {
      "text/plain": [
       "[('pakistan', 0.7378599047660828),\n",
       " ('malaysia', 0.7283291816711426),\n",
       " ('india,', 0.7013982534408569),\n",
       " ('pakistan,', 0.6851116418838501),\n",
       " ('china,', 0.6625625491142273),\n",
       " ('indian', 0.6529113054275513),\n",
       " ('china', 0.6475859880447388),\n",
       " ('beijing', 0.6377558708190918),\n",
       " ('islamabad', 0.6344510912895203),\n",
       " ('australia,', 0.6337688565254211)]"
      ]
     },
     "execution_count": 78,
     "metadata": {},
     "output_type": "execute_result"
    }
   ],
   "source": [
    "w2v_model.wv.most_similar('india')"
   ]
  },
  {
   "cell_type": "code",
   "execution_count": 79,
   "id": "df3baf81",
   "metadata": {},
   "outputs": [],
   "source": [
    "tokenizer = Tokenizer()\n",
    "tokenizer.fit_on_texts(x)"
   ]
  },
  {
   "cell_type": "code",
   "execution_count": 81,
   "id": "a772af29",
   "metadata": {},
   "outputs": [],
   "source": [
    "x = tokenizer.texts_to_sequences(x)"
   ]
  },
  {
   "cell_type": "code",
   "execution_count": 86,
   "id": "9eb7ba7e",
   "metadata": {},
   "outputs": [
    {
     "data": {
      "image/png": "[encoded data removed]",
      "text/plain": [
       "<Figure size 432x288 with 1 Axes>"
      ]
     },
     "metadata": {
      "needs_background": "light"
     },
     "output_type": "display_data"
    }
   ],
   "source": [
    "plt.hist([len(i) for i in x], bins = 500)\n",
    "plt.show()"
   ]
  },
  {
   "cell_type": "code",
   "execution_count": 87,
   "id": "61d5175e",
   "metadata": {},
   "outputs": [
    {
     "data": {
      "text/plain": [
       "1603"
      ]
     },
     "execution_count": 87,
     "metadata": {},
     "output_type": "execute_result"
    }
   ],
   "source": [
    "nos = np.array([len(i) for i in x])\n",
    "len(nos[nos>1000])"
   ]
  },
  {
   "cell_type": "code",
   "execution_count": 88,
   "id": "be92d832",
   "metadata": {},
   "outputs": [],
   "source": [
    "maxlen = 1000\n",
    "x = pad_sequences(x,maxlen=maxlen)"
   ]
  },
  {
   "cell_type": "code",
   "execution_count": 89,
   "id": "b0487887",
   "metadata": {},
   "outputs": [
    {
     "data": {
      "text/plain": [
       "1000"
      ]
     },
     "execution_count": 89,
     "metadata": {},
     "output_type": "execute_result"
    }
   ],
   "source": [
    "len(x[101])"
   ]
  },
  {
   "cell_type": "code",
   "execution_count": 90,
   "id": "5a75b3c1",
   "metadata": {},
   "outputs": [],
   "source": [
    "vocab_size = len(tokenizer.word_index) + 1"
   ]
  },
  {
   "cell_type": "code",
   "execution_count": 91,
   "id": "4c479b29",
   "metadata": {},
   "outputs": [],
   "source": [
    "vocab = tokenizer.word_index"
   ]
  },
  {
   "cell_type": "code",
   "execution_count": 98,
   "id": "166cf4a7",
   "metadata": {},
   "outputs": [],
   "source": [
    "def get_weight_matrix(model):\n",
    "    weight_matrix = np.zeros((vocab_size,100))\n",
    "    for word,i in vocab.items():\n",
    "        weight_matrix[i] = model.wv[word]\n",
    "    return weight_matrix"
   ]
  },
  {
   "cell_type": "code",
   "execution_count": 99,
   "id": "6a78275c",
   "metadata": {},
   "outputs": [],
   "source": [
    "embedding_vectors = get_weight_matrix(w2v_model)"
   ]
  },
  {
   "cell_type": "code",
   "execution_count": 100,
   "id": "e4b0a85f",
   "metadata": {},
   "outputs": [
    {
     "data": {
      "text/plain": [
       "(375374, 100)"
      ]
     },
     "execution_count": 100,
     "metadata": {},
     "output_type": "execute_result"
    }
   ],
   "source": [
    "embedding_vectors.shape"
   ]
  },
  {
   "cell_type": "code",
   "execution_count": 104,
   "id": "79618ac1",
   "metadata": {},
   "outputs": [],
   "source": [
    "model = Sequential()\n",
    "model.add(Embedding(vocab_size,output_dim = DIM, weights = [embedding_vectors], input_length = maxlen, trainable = False ))\n",
    "model.add(LSTM(units=128))\n",
    "model.add(Dense(1, activation='sigmoid'))\n",
    "model.compile(optimizer='adam',loss='binary_crossentropy',metrics=['acc'])"
   ]
  },
  {
   "cell_type": "code",
   "execution_count": 105,
   "id": "47036fb3",
   "metadata": {},
   "outputs": [
    {
     "name": "stdout",
     "output_type": "stream",
     "text": [
      "Model: \"sequential_3\"\n",
      "_________________________________________________________________\n",
      " Layer (type)                Output Shape              Param #   \n",
      "=================================================================\n",
      " embedding_3 (Embedding)     (None, 1000, 100)         37537400  \n",
      "                                                                 \n",
      " lstm_2 (LSTM)               (None, 128)               117248    \n",
      "                                                                 \n",
      " dense_2 (Dense)             (None, 1)                 129       \n",
      "                                                                 \n",
      "=================================================================\n",
      "Total params: 37,654,777\n",
      "Trainable params: 117,377\n",
      "Non-trainable params: 37,537,400\n",
      "_________________________________________________________________\n"
     ]
    }
   ],
   "source": [
    "model.summary()"
   ]
  },
  {
   "cell_type": "code",
   "execution_count": 106,
   "id": "83d8eea1",
   "metadata": {},
   "outputs": [],
   "source": [
    "x_train, x_test, y_train, y_test = train_test_split(x,y)"
   ]
  },
  {
   "cell_type": "code",
   "execution_count": 107,
   "id": "bca2be61",
   "metadata": {},
   "outputs": [
    {
     "name": "stdout",
     "output_type": "stream",
     "text": [
      "Epoch 1/6\n",
      "737/737 [==============================] - 510s 690ms/step - loss: 0.1907 - acc: 0.9241 - val_loss: 0.0930 - val_acc: 0.9706\n",
      "Epoch 2/6\n",
      "737/737 [==============================] - 517s 702ms/step - loss: 0.0630 - acc: 0.9788 - val_loss: 0.0482 - val_acc: 0.9838\n",
      "Epoch 3/6\n",
      "737/737 [==============================] - 495s 671ms/step - loss: 0.0365 - acc: 0.9887 - val_loss: 0.0301 - val_acc: 0.9903\n",
      "Epoch 4/6\n",
      "737/737 [==============================] - 482s 655ms/step - loss: 0.0298 - acc: 0.9896 - val_loss: 0.0447 - val_acc: 0.9854\n",
      "Epoch 5/6\n",
      "737/737 [==============================] - 441s 599ms/step - loss: 0.0253 - acc: 0.9919 - val_loss: 0.0161 - val_acc: 0.9947\n",
      "Epoch 6/6\n",
      "737/737 [==============================] - 471s 639ms/step - loss: 0.0109 - acc: 0.9968 - val_loss: 0.0155 - val_acc: 0.9951\n"
     ]
    },
    {
     "data": {
      "text/plain": [
       "<keras.callbacks.History at 0x2035e33f280>"
      ]
     },
     "execution_count": 107,
     "metadata": {},
     "output_type": "execute_result"
    }
   ],
   "source": [
    "model.fit(x_train, y_train, validation_split = 0.3, epochs=6)"
   ]
  },
  {
   "cell_type": "code",
   "execution_count": 108,
   "id": "08b6e13a",
   "metadata": {},
   "outputs": [],
   "source": [
    "y_pred = (model.predict(x_test)>=0.5).astype(int)"
   ]
  },
  {
   "cell_type": "code",
   "execution_count": 109,
   "id": "eaa11216",
   "metadata": {},
   "outputs": [
    {
     "data": {
      "text/plain": [
       "0.9935857461024499"
      ]
     },
     "execution_count": 109,
     "metadata": {},
     "output_type": "execute_result"
    }
   ],
   "source": [
    "accuracy_score(y_test, y_pred)"
   ]
  },
  {
   "cell_type": "code",
   "execution_count": 110,
   "id": "55bada80",
   "metadata": {},
   "outputs": [
    {
     "name": "stdout",
     "output_type": "stream",
     "text": [
      "              precision    recall  f1-score   support\n",
      "\n",
      "           0       0.99      0.99      0.99      5846\n",
      "           1       0.99      0.99      0.99      5379\n",
      "\n",
      "    accuracy                           0.99     11225\n",
      "   macro avg       0.99      0.99      0.99     11225\n",
      "weighted avg       0.99      0.99      0.99     11225\n",
      "\n"
     ]
    }
   ],
   "source": [
    "print(classification_report(y_test, y_pred))"
   ]
  },
  {
   "cell_type": "code",
   "execution_count": 111,
   "id": "f99e45aa",
   "metadata": {},
   "outputs": [],
   "source": [
    "a=[\"this is a news\"]"
   ]
  },
  {
   "cell_type": "code",
   "execution_count": 112,
   "id": "c90b5605",
   "metadata": {},
   "outputs": [
    {
     "data": {
      "text/plain": [
       "array([[     0,      0,      0, ...,   2261,   1233,   1952],\n",
       "       [     0,      0,      0, ...,    202,    184,   4272],\n",
       "       [     0,      0,      0, ...,      6,    286,    861],\n",
       "       ...,\n",
       "       [     0,      0,      0, ...,     13, 172981,    367],\n",
       "       [     0,      0,      0, ...,      4,   1931,   4006],\n",
       "       [     0,      0,      0, ...,    184,   2431,   4272]])"
      ]
     },
     "execution_count": 112,
     "metadata": {},
     "output_type": "execute_result"
    }
   ],
   "source": [
    "x_test"
   ]
  },
  {
   "cell_type": "code",
   "execution_count": 113,
   "id": "c45558f8",
   "metadata": {},
   "outputs": [],
   "source": [
    "a=[\"this is a news\"]\n",
    "a=tokenizer.texts_to_sequences(a)\n",
    "a=x = pad_sequences(a,maxlen=maxlen)"
   ]
  },
  {
   "cell_type": "code",
   "execution_count": 114,
   "id": "838e2e1c",
   "metadata": {},
   "outputs": [
    {
     "data": {
      "text/plain": [
       "array([[0.01595184]], dtype=float32)"
      ]
     },
     "execution_count": 114,
     "metadata": {},
     "output_type": "execute_result"
    }
   ],
   "source": [
    "model.predict(a)"
   ]
  },
  {
   "cell_type": "code",
   "execution_count": 115,
   "id": "c36a5472",
   "metadata": {},
   "outputs": [
    {
     "data": {
      "text/plain": [
       "array([[0]])"
      ]
     },
     "execution_count": 115,
     "metadata": {},
     "output_type": "execute_result"
    }
   ],
   "source": [
    "(model.predict(a)>=0.5).astype(int)"
   ]
  },
  {
   "cell_type": "code",
   "execution_count": 116,
   "id": "ce978e21",
   "metadata": {},
   "outputs": [
    {
     "data": {
      "text/plain": [
       "array([[1]])"
      ]
     },
     "execution_count": 116,
     "metadata": {},
     "output_type": "execute_result"
    }
   ],
   "source": [
    "b=[\"Delhi logged 1,414 fresh Covid-19 cases and one death on Tuesday. Even though the cases were 31 per cent more than Monday, the positivity rate decreased 5.97 per cent. The total number of cases in Delhi rose to 18,87,050 and the death toll increased to 26,176\"]\n",
    "b=tokenizer.texts_to_sequences(b)\n",
    "b=pad_sequences(b,maxlen=maxlen)\n",
    "(model.predict(b)>=0.5).astype(int)"
   ]
  },
  {
   "cell_type": "code",
   "execution_count": 117,
   "id": "b24702e1",
   "metadata": {},
   "outputs": [
    {
     "data": {
      "text/plain": [
       "array([[0]])"
      ]
     },
     "execution_count": 117,
     "metadata": {},
     "output_type": "execute_result"
    }
   ],
   "source": [
    "c=[\"hosrse sleeps with 3 legs\"]\n",
    "c=tokenizer.texts_to_sequences(c)\n",
    "c=pad_sequences(c,maxlen=maxlen)\n",
    "(model.predict(c)>=0.5).astype(int)"
   ]
  }
 ],
 "metadata": {
  "kernelspec": {
   "display_name": "Python 3 (ipykernel)",
   "language": "python",
   "name": "python3"
  },
  "language_info": {
   "codemirror_mode": {
    "name": "ipython",
    "version": 3
   },
   "file_extension": ".py",
   "mimetype": "text/x-python",
   "name": "python",
   "nbconvert_exporter": "python",
   "pygments_lexer": "ipython3",
   "version": "3.9.10"
  }
 },
 "nbformat": 4,
 "nbformat_minor": 5
}
